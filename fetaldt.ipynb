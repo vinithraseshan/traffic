{
 "cells": [
  {
   "cell_type": "code",
   "execution_count": 8,
   "metadata": {},
   "outputs": [],
   "source": [
    "import streamlit as st\n",
    "import matplotlib.pyplot as plt\n",
    "import numpy as np\n",
    "import pandas as pd\n",
    "import sklearn\n",
    "from sklearn.ensemble import RandomForestClassifier\n",
    "from sklearn.tree import DecisionTreeClassifier\n",
    "from sklearn.ensemble import AdaBoostClassifier\n",
    "from sklearn.ensemble import VotingClassifier\n",
    "from sklearn import tree\n",
    "from sklearn.model_selection import train_test_split\n",
    "\n",
    "import time\n",
    "from sklearn.metrics import confusion_matrix, ConfusionMatrixDisplay\n",
    "import pickle\n",
    "\n",
    "# Package for generating classification report\n",
    "from sklearn.metrics import classification_report\n",
    "\n",
    "# Suppress warnings\n",
    "import warnings\n",
    "warnings.filterwarnings(\"ignore\")"
   ]
  },
  {
   "cell_type": "code",
   "execution_count": 9,
   "metadata": {},
   "outputs": [],
   "source": [
    "input = pd.read_csv('fetal_health.csv')\n",
    "X = input.drop(columns = ['fetal_health'])\n",
    "y = input['fetal_health']\n",
    "train_X, test_X, train_y, test_y = train_test_split(X, y, test_size=0.3, random_state=1)"
   ]
  },
  {
   "cell_type": "code",
   "execution_count": 10,
   "metadata": {},
   "outputs": [],
   "source": [
    "dtclassifier = DecisionTreeClassifier(random_state = 1)\n",
    "dtclassifier.fit(train_X,train_y)\n",
    "ypred = dtclassifier.predict(test_X)\n"
   ]
  },
  {
   "cell_type": "code",
   "execution_count": 11,
   "metadata": {},
   "outputs": [],
   "source": [
    "\n",
    "dtcm = confusion_matrix(test_y, ypred, labels = dtclassifier.classes_)\n",
    "dtdisp = ConfusionMatrixDisplay(confusion_matrix = dtcm, display_labels = dtclassifier.classes_)\n",
    "\n",
    "# Specify figure size\n",
    "fig, ax = plt.subplots(figsize = (10, 8))\n",
    "plt.rcParams.update({'font.size': 12})\n",
    "\n",
    "\n",
    "# Display Confusion Matrix\n",
    "dtdisp.plot(cmap = 'PuRd', ax = ax);\n",
    "plt.savefig('dtcm')"
   ]
  },
  {
   "cell_type": "code",
   "execution_count": 12,
   "metadata": {},
   "outputs": [],
   "source": [
    "dtreport = classification_report(test_y, ypred, output_dict = True)\n",
    "dtreport_df = pd.DataFrame(dfreport)\n",
    "dtreport_df.to_csv('dt_report.csv')"
   ]
  },
  {
   "cell_type": "code",
   "execution_count": 13,
   "metadata": {},
   "outputs": [],
   "source": [
    "importance = dtclassifier.feature_importances_\n",
    "\n",
    "feature_imp = pd.DataFrame(list(zip(train_X.columns, importance)),\n",
    "               columns = ['Feature', 'Importance'])\n",
    "\n",
    "feature_imp = feature_imp.sort_values('Importance', ascending = False).reset_index(drop = True)\n",
    "\n",
    "# Bar plot\n",
    "plt.figure(figsize=(10, 5))\n",
    "plt.barh(feature_imp['Feature'], feature_imp['Importance'], color = ['purple', 'pink'])\n",
    "\n",
    "plt.xlabel(\"Importance\")\n",
    "plt.ylabel(\"Input Feature\")\n",
    "plt.title('Which features are the most important for mobile price?') \n",
    "plt.tight_layout()\n",
    "plt.savefig('dtimp.svg');"
   ]
  },
  {
   "cell_type": "code",
   "execution_count": 14,
   "metadata": {},
   "outputs": [],
   "source": [
    "dt_pickle = open('decision_tree.pickle', 'wb') \n",
    "\n",
    "# Write DT model to the file\n",
    "pickle.dump(dtclassifier, dt_pickle) \n",
    "\n",
    "# Close the file\n",
    "dt_pickle.close() "
   ]
  }
 ],
 "metadata": {
  "kernelspec": {
   "display_name": "base",
   "language": "python",
   "name": "python3"
  },
  "language_info": {
   "codemirror_mode": {
    "name": "ipython",
    "version": 3
   },
   "file_extension": ".py",
   "mimetype": "text/x-python",
   "name": "python",
   "nbconvert_exporter": "python",
   "pygments_lexer": "ipython3",
   "version": "3.12.4"
  }
 },
 "nbformat": 4,
 "nbformat_minor": 2
}
